{
 "cells": [
  {
   "cell_type": "code",
   "execution_count": null,
   "metadata": {},
   "outputs": [],
   "source": []
  },
  {
   "cell_type": "markdown",
   "metadata": {},
   "source": [
    "# VacationPy\n",
    "----\n",
    "\n",
    "#### Note\n",
    "* Instructions have been included for each segment. You do not have to follow them exactly, but they are included to help you think through the steps."
   ]
  },
  {
   "cell_type": "code",
   "execution_count": 8,
   "metadata": {},
   "outputs": [],
   "source": [
    "# Dependencies and Setup\n",
    "import matplotlib.pyplot as plt\n",
    "import pandas as pd\n",
    "import numpy as np\n",
    "import requests\n",
    "import gmaps\n",
    "import os\n",
    "\n",
    "# Import API key\n",
    "from config import g_key\n",
    ""
   ]
  },
  {
   "cell_type": "markdown",
   "metadata": {},
   "source": [
    "### Store Part I results into DataFrame\n",
    "* Load the csv exported in Part I to a DataFrame"
   ]
  },
  {
   "cell_type": "code",
   "execution_count": 5,
   "metadata": {},
   "outputs": [
    {
     "data": {
      "text/html": "<div>\n<style scoped>\n    .dataframe tbody tr th:only-of-type {\n        vertical-align: middle;\n    }\n\n    .dataframe tbody tr th {\n        vertical-align: top;\n    }\n\n    .dataframe thead th {\n        text-align: right;\n    }\n</style>\n<table border=\"1\" class=\"dataframe\">\n  <thead>\n    <tr style=\"text-align: right;\">\n      <th></th>\n      <th>City</th>\n      <th>Cloudiness</th>\n      <th>Country</th>\n      <th>Date</th>\n      <th>Humidity</th>\n      <th>Lat</th>\n      <th>Lng</th>\n      <th>Max Temp</th>\n      <th>Wind Speed</th>\n    </tr>\n  </thead>\n  <tbody>\n    <tr>\n      <td>0</td>\n      <td>Esperance</td>\n      <td>40</td>\n      <td>AU</td>\n      <td>1579902921</td>\n      <td>93</td>\n      <td>-33.87</td>\n      <td>121.90</td>\n      <td>60.80</td>\n      <td>8.05</td>\n    </tr>\n    <tr>\n      <td>1</td>\n      <td>Bredasdorp</td>\n      <td>28</td>\n      <td>ZA</td>\n      <td>1579903101</td>\n      <td>88</td>\n      <td>-34.53</td>\n      <td>20.04</td>\n      <td>68.00</td>\n      <td>1.12</td>\n    </tr>\n    <tr>\n      <td>2</td>\n      <td>Cabo San Lucas</td>\n      <td>90</td>\n      <td>MX</td>\n      <td>1579903026</td>\n      <td>56</td>\n      <td>22.89</td>\n      <td>-109.91</td>\n      <td>72.00</td>\n      <td>5.86</td>\n    </tr>\n    <tr>\n      <td>3</td>\n      <td>Portland</td>\n      <td>90</td>\n      <td>US</td>\n      <td>1579902927</td>\n      <td>76</td>\n      <td>45.52</td>\n      <td>-122.68</td>\n      <td>55.99</td>\n      <td>5.82</td>\n    </tr>\n    <tr>\n      <td>4</td>\n      <td>Upernavik</td>\n      <td>73</td>\n      <td>GL</td>\n      <td>1579903082</td>\n      <td>96</td>\n      <td>72.79</td>\n      <td>-56.15</td>\n      <td>-13.31</td>\n      <td>5.01</td>\n    </tr>\n    <tr>\n      <td>...</td>\n      <td>...</td>\n      <td>...</td>\n      <td>...</td>\n      <td>...</td>\n      <td>...</td>\n      <td>...</td>\n      <td>...</td>\n      <td>...</td>\n      <td>...</td>\n    </tr>\n    <tr>\n      <td>587</td>\n      <td>Sikandra</td>\n      <td>0</td>\n      <td>IN</td>\n      <td>1579903913</td>\n      <td>67</td>\n      <td>26.37</td>\n      <td>79.65</td>\n      <td>50.43</td>\n      <td>3.83</td>\n    </tr>\n    <tr>\n      <td>588</td>\n      <td>Ayna</td>\n      <td>75</td>\n      <td>PE</td>\n      <td>1579903914</td>\n      <td>46</td>\n      <td>-12.65</td>\n      <td>-73.92</td>\n      <td>71.60</td>\n      <td>8.05</td>\n    </tr>\n    <tr>\n      <td>589</td>\n      <td>Manuel Roxas</td>\n      <td>90</td>\n      <td>PH</td>\n      <td>1579903915</td>\n      <td>92</td>\n      <td>6.45</td>\n      <td>124.67</td>\n      <td>70.45</td>\n      <td>1.48</td>\n    </tr>\n    <tr>\n      <td>590</td>\n      <td>Zafarabad</td>\n      <td>1</td>\n      <td>IN</td>\n      <td>1579903916</td>\n      <td>76</td>\n      <td>25.70</td>\n      <td>82.73</td>\n      <td>49.93</td>\n      <td>3.33</td>\n    </tr>\n    <tr>\n      <td>591</td>\n      <td>Arrondissement de Dinan</td>\n      <td>90</td>\n      <td>FR</td>\n      <td>1579903916</td>\n      <td>100</td>\n      <td>48.42</td>\n      <td>-2.25</td>\n      <td>39.00</td>\n      <td>8.05</td>\n    </tr>\n  </tbody>\n</table>\n<p>592 rows × 9 columns</p>\n</div>",
      "text/plain": "                        City  Cloudiness Country        Date  Humidity    Lat  \\\n0                  Esperance          40      AU  1579902921        93 -33.87   \n1                 Bredasdorp          28      ZA  1579903101        88 -34.53   \n2             Cabo San Lucas          90      MX  1579903026        56  22.89   \n3                   Portland          90      US  1579902927        76  45.52   \n4                  Upernavik          73      GL  1579903082        96  72.79   \n..                       ...         ...     ...         ...       ...    ...   \n587                 Sikandra           0      IN  1579903913        67  26.37   \n588                     Ayna          75      PE  1579903914        46 -12.65   \n589             Manuel Roxas          90      PH  1579903915        92   6.45   \n590                Zafarabad           1      IN  1579903916        76  25.70   \n591  Arrondissement de Dinan          90      FR  1579903916       100  48.42   \n\n        Lng  Max Temp  Wind Speed  \n0    121.90     60.80        8.05  \n1     20.04     68.00        1.12  \n2   -109.91     72.00        5.86  \n3   -122.68     55.99        5.82  \n4    -56.15    -13.31        5.01  \n..      ...       ...         ...  \n587   79.65     50.43        3.83  \n588  -73.92     71.60        8.05  \n589  124.67     70.45        1.48  \n590   82.73     49.93        3.33  \n591   -2.25     39.00        8.05  \n\n[592 rows x 9 columns]"
     },
     "execution_count": 5,
     "metadata": {},
     "output_type": "execute_result"
    }
   ],
   "source": [
    "df = pd.read_csv('../output_data/cities.csv')\n",
    "df"
   ]
  },
  {
   "cell_type": "markdown",
   "metadata": {},
   "source": [
    "### Humidity Heatmap\n",
    "* Configure gmaps.\n",
    "* Use the Lat and Lng as locations and Humidity as the weight.\n",
    "* Add Heatmap layer to map."
   ]
  },
  {
   "cell_type": "code",
   "execution_count": null,
   "metadata": {},
   "outputs": [],
   "source": [
    "\n"
   ]
  },
  {
   "cell_type": "code",
   "execution_count": null,
   "metadata": {},
   "outputs": [],
   "source": [
    "\n"
   ]
  },
  {
   "cell_type": "markdown",
   "metadata": {},
   "source": [
    "### Create new DataFrame fitting weather criteria\n",
    "* Narrow down the cities to fit weather conditions.\n",
    "* Drop any rows will null values."
   ]
  },
  {
   "cell_type": "code",
   "execution_count": null,
   "metadata": {},
   "outputs": [],
   "source": []
  },
  {
   "cell_type": "markdown",
   "metadata": {},
   "source": [
    "### Hotel Map\n",
    "* Store into variable named `hotel_df`.\n",
    "* Add a \"Hotel Name\" column to the DataFrame.\n",
    "* Set parameters to search for hotels with 5000 meters.\n",
    "* Hit the Google Places API for each city's coordinates.\n",
    "* Store the first Hotel result into the DataFrame.\n",
    "* Plot markers on top of the heatmap."
   ]
  },
  {
   "cell_type": "code",
   "execution_count": null,
   "metadata": {},
   "outputs": [],
   "source": []
  },
  {
   "cell_type": "code",
   "execution_count": null,
   "metadata": {},
   "outputs": [],
   "source": []
  },
  {
   "cell_type": "code",
   "execution_count": null,
   "metadata": {},
   "outputs": [],
   "source": [
    "\n"
   ]
  },
  {
   "cell_type": "code",
   "execution_count": null,
   "metadata": {},
   "outputs": [],
   "source": [
    "# NOTE: Do not change any of the code in this cell\n",
    "\n",
    "# Using the template add the hotel marks to the heatmap\n",
    "info_box_template = \"\"\"\n",
    "<dl>\n",
    "<dt>Name</dt><dd>{Hotel Name}</dd>\n",
    "<dt>City</dt><dd>{City}</dd>\n",
    "<dt>Country</dt><dd>{Country}</dd>\n",
    "</dl>\n",
    "\"\"\"\n",
    "# Store the DataFrame Row\n",
    "# NOTE: be sure to update with your DataFrame name\n",
    "hotel_info = [info_box_template.format(**row) for index, row in narrowed_city_df.iterrows()]\n",
    "locations = hotel_df[[\"Lat\", \"Lng\"]]"
   ]
  },
  {
   "cell_type": "code",
   "execution_count": null,
   "metadata": {},
   "outputs": [],
   "source": [
    "# Add marker layer ontop of heat map\n",
    "\n",
    "\n",
    "# Display Map"
   ]
  }
 ],
 "metadata": {
  "kernelspec": {
   "display_name": "Python 3.7.4 64-bit ('base': conda)",
   "language": "python",
   "name": "python37464bitbaseconda7bc3910bbe4a4c1e89b80bb43883e8bc"
  },
  "language_info": {
   "codemirror_mode": {
    "name": "ipython",
    "version": 3
   },
   "file_extension": ".py",
   "mimetype": "text/x-python",
   "name": "python",
   "nbconvert_exporter": "python",
   "pygments_lexer": "ipython3",
   "version": "3.7.4-final"
  },
  "latex_envs": {
   "LaTeX_envs_menu_present": true,
   "autoclose": false,
   "autocomplete": true,
   "bibliofile": "biblio.bib",
   "cite_by": "apalike",
   "current_citInitial": 1,
   "eqLabelWithNumbers": true,
   "eqNumInitial": 1,
   "hotkeys": {
    "equation": "Ctrl-E",
    "itemize": "Ctrl-I"
   },
   "labels_anchors": false,
   "latex_user_defs": false,
   "report_style_numbering": false,
   "user_envs_cfg": false
  }
 },
 "nbformat": 4,
 "nbformat_minor": 2
}